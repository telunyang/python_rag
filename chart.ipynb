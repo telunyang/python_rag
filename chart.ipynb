{
 "cells": [
  {
   "cell_type": "code",
   "execution_count": null,
   "metadata": {},
   "outputs": [],
   "source": [
    "import numpy as np\n",
    "import sqlite3\n",
    "import math\n",
    "from transformers import AutoTokenizer\n",
    "import matplotlib.pyplot as plt\n",
    "import matplotlib\n",
    "matplotlib.rc('font', family='Microsoft JhengHei')"
   ]
  },
  {
   "cell_type": "code",
   "execution_count": 2,
   "metadata": {},
   "outputs": [],
   "source": [
    "# 讀取 BGE-M3 的 tokenizer\n",
    "tokenizer = AutoTokenizer.from_pretrained(\"BAAI/bge-m3\")"
   ]
  },
  {
   "cell_type": "code",
   "execution_count": null,
   "metadata": {},
   "outputs": [],
   "source": [
    "# 連接資料庫\n",
    "conn = sqlite3.connect(\"./financial_laws.db\")\n",
    "\n",
    "# 查詢出來的結果 (tuple)，變成 key-value 型式 (dict)\n",
    "conn.row_factory = sqlite3.Row\n",
    "\n",
    "# 建立 cursor\n",
    "cursor = conn.cursor()\n",
    "\n",
    "'''\n",
    "資料表名稱:\n",
    "laws_full -> 法律/法規的所有條文\n",
    "laws_part -> 法律/法規的某個條文\n",
    "laws_row  -> 法律/法規的特定條文的某一句話\n",
    "'''\n",
    "\n",
    "# 定義 SQL 語法\n",
    "table_name = 'laws_row'\n",
    "sql = f'''\n",
    "SELECT content\n",
    "FROM {table_name};\n",
    "'''\n",
    "\n",
    "# 取得連線資料庫進行查詢的物件\n",
    "stmt = cursor.execute(sql)\n",
    "\n",
    "# 計算每一則法規的內容\n",
    "list_count = []\n",
    "for index, record in enumerate(stmt.fetchall()):\n",
    "    tokens = tokenizer.encode(record['content'])\n",
    "    list_count.append(len(tokens))\n",
    "\n",
    "# 檢視最大與最小的 tokens 數量\n",
    "print('資料數量: ', index + 1)\n",
    "print('最大 Tokens: ', max(list_count))\n",
    "print('最小 Tokens: ', min(list_count))\n",
    "\n",
    "# 關閉資料庫資源\n",
    "conn.close()\n"
   ]
  },
  {
   "cell_type": "code",
   "execution_count": null,
   "metadata": {},
   "outputs": [],
   "source": [
    "# 組距 (將成績 0 到 100 分，分成 10 個組距，回傳 11 個數字)\n",
    "x_bins = np.arange(0, max(list_count), math.ceil(max(list_count) / 10))\n",
    "\n",
    "plt.figure(figsize=(10, 6), dpi=100)\n",
    "\n",
    "# 繪製直方圖 (會回傳每個組距的數量，以及對應組距)\n",
    "arr_counts, arr_bins, obj = plt.hist(\n",
    "    list_count, \n",
    "    bins=x_bins,\n",
    "    edgecolor='black', \n",
    "    linewidth=1\n",
    ")\n",
    "\n",
    "# 設定數值文字在圖表上\n",
    "for i in range(len(arr_counts)):\n",
    "    plt.text(\n",
    "        arr_bins[i] + int(x_bins[1]) / 2,\n",
    "        arr_counts[i], \n",
    "        arr_counts[i].astype('int16'),\n",
    "        fontsize=12\n",
    "    )\n",
    "\n",
    "# 設定標題\n",
    "plt.xticks(x_bins, rotation=0, fontsize=10)\n",
    "plt.ylabel(f'{table_name} 數量', fontsize=16)\n",
    "plt.xlabel('Tokens', fontsize=16)\n",
    "\n",
    "# 顯示圖表\n",
    "plt.show()"
   ]
  },
  {
   "cell_type": "code",
   "execution_count": 38,
   "metadata": {},
   "outputs": [],
   "source": [
    "# 刪除變數\n",
    "del tokenizer"
   ]
  }
 ],
 "metadata": {
  "kernelspec": {
   "display_name": "rag",
   "language": "python",
   "name": "python3"
  },
  "language_info": {
   "codemirror_mode": {
    "name": "ipython",
    "version": 3
   },
   "file_extension": ".py",
   "mimetype": "text/x-python",
   "name": "python",
   "nbconvert_exporter": "python",
   "pygments_lexer": "ipython3",
   "version": "3.10.15"
  }
 },
 "nbformat": 4,
 "nbformat_minor": 2
}
